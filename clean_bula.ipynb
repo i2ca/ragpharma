{
 "cells": [
  {
   "cell_type": "code",
   "execution_count": 1,
   "metadata": {},
   "outputs": [],
   "source": [
    "import sys\n",
    "import os\n",
    "\n",
    "# Adicione o diretório 'bula_process' ao sys.path\n",
    "sys.path.append(os.path.abspath(\"/home/navarro/ragbula/bula_process\"))  # Substitua pelo caminho real para bula_process\n"
   ]
  },
  {
   "cell_type": "code",
   "execution_count": 2,
   "metadata": {},
   "outputs": [
    {
     "name": "stderr",
     "output_type": "stream",
     "text": [
      "/home/navarro/miniconda3/envs/python310/lib/python3.10/site-packages/tqdm/auto.py:21: TqdmWarning: IProgress not found. Please update jupyter and ipywidgets. See https://ipywidgets.readthedocs.io/en/stable/user_install.html\n",
      "  from .autonotebook import tqdm as notebook_tqdm\n",
      "/home/navarro/.local/lib/python3.10/site-packages/huggingface_hub/file_download.py:1132: FutureWarning: `resume_download` is deprecated and will be removed in version 1.0.0. Downloads always resume when possible. If you want to force a new download, use `force_download=True`.\n",
      "  warnings.warn(\n",
      "Loading checkpoint shards: 100%|██████████| 4/4 [00:07<00:00,  1.89s/it]\n"
     ]
    }
   ],
   "source": [
    "from bula_process.clean_process import PDFSectionProcessor, PDFTextExtractor\n",
    "from bula_process.models import Phi, Llama3, Mistral\n",
    "\n",
    "config = {}\n",
    "config['type'] = 'paciente'\n",
    "\n",
    "model = Phi()\n",
    "processor = PDFSectionProcessor(model, config)"
   ]
  },
  {
   "cell_type": "code",
   "execution_count": 3,
   "metadata": {},
   "outputs": [
    {
     "name": "stderr",
     "output_type": "stream",
     "text": [
      "/home/navarro/.local/lib/python3.10/site-packages/transformers/generation/configuration_utils.py:492: UserWarning: `do_sample` is set to `False`. However, `temperature` is set to `0.0` -- this flag is only used in sample-based generation modes. You should set `do_sample=True` or unset `temperature`.\n",
      "  warnings.warn(\n",
      "/home/navarro/.cache/huggingface/modules/transformers_modules/microsoft/Phi-3-small-8k-instruct/5e111c6a52f80d666f455cc6ee543d401b3fc3af/triton_flash_blocksparse_attn.py:88: UserWarning: Sparse CSR tensor support is in beta state. If you miss a functionality in the sparse tensor support, please submit a feature request to https://github.com/pytorch/pytorch/issues. (Triggered internally at ../aten/src/ATen/SparseCsrTensorImpl.cpp:53.)\n",
      "  x = [xi.to_sparse_csr() for xi in x]\n"
     ]
    },
    {
     "data": {
      "text/plain": [
       "'1+1 é igual a 2.'"
      ]
     },
     "execution_count": 3,
     "metadata": {},
     "output_type": "execute_result"
    }
   ],
   "source": [
    "model.inference(\"Quanto é 1+1?\")"
   ]
  },
  {
   "cell_type": "code",
   "execution_count": 4,
   "metadata": {},
   "outputs": [],
   "source": [
    "filename = 'pdfs/0246921242.pdf'\n",
    "pdf_extractor = PDFTextExtractor(filename)\n",
    "text = pdf_extractor.extract_text()"
   ]
  },
  {
   "cell_type": "code",
   "execution_count": 5,
   "metadata": {},
   "outputs": [
    {
     "data": {
      "text/plain": [
       "'albendazol  \\nLEGRAND PHARMA INDÚSTRIA FARMACÊUTICA LTDA  \\nComprimido mastigável  \\n400 mg  \\n I - IDENTIFICAÇÃO DO MEDICAMENTO  \\nalbendazol  \\n“Medicamento Genérico, Lei nº . 9.787, de 1999 ” \\nAPRESENTAÇ ÕES  \\nComprimido masti gável de 400 mg. Embalage m contendo 1  ou 5 unidades .  \\nUSO ORAL   \\nUSO ADULTO E PEDIÁTRICO ACIMA DE 2  ANO S DE IDADE  \\nCOMPOSIÇÃO  \\nCada comprimido mastigável de 400 mg contém:  \\nalbendazol ........................................................................ ................................................................ .................... 400 mg  \\nexcipiente * q.s.p............................................................................................................... .............................. 1 com  mast   \\n*lactose monoidratada,  celulose microcristalina, laurilsulfato de sódio, amido pré -gelatinizado, sacarina sódica, \\ndióxido de silício, povidona, crospovidona,  essência de laranja  e estearato de magnésio .  \\nII - INFORMAÇÕES AO PACIENTE  \\n1. PARA QUE ES TE MEDICAMENTO É INDICADO?  \\nO albendazol  é usado para tratar uma grande variedade de condições causadas por vermes ou parasitas. Estudos \\nmostram que o albendazol é eficaz no tratamento de infecções por Ascaris lumbricoides, Enterobius vermicularis, \\nNecator americanus, Ancylostoma duodenale, Trichuris trichiura, Strongyloides stercoralis, Taenia spp. e \\nHymenolepis nana ; de opistorquíase ( Opisthorchis viverrini ) e larva migrans  cutânea; e de giardíase ( Giardia \\nlamblia, G. duodenalis, G. intestinalis ) em crianç as.  \\n2. COMO ESTE MEDICAMENTO FUNCIONA?  \\nO albendazol  pertence a uma classe de compostos anti -helmínticos e antiparasitários benzimidazólicos. O \\nalbendazol  tem a capacidade de eliminar vermes e parasitas do seu corpo, matando -os. \\n3. QUANDO NÃO DEVO USAR E STE MEDICAMENTO?  \\nContraindicações  \\nNão use albendazol  se:  \\n- você for hipersensível (alérgico) ao albendazol, a medicamento s similares ao albendazol (como mebendazol e \\ntiabendazol) ou a qualquer outro componente da fórmula;  \\n- você está grávida, suspeita de gravidez ou planeja engravidar.  \\nGravidez e lactação  \\nO albendazol não deve ser administrado durante a gravidez nem a mulheres que possam estar grávidas ou pensem \\nem engravidar.  \\nNão se sabe se o albendazol ou seus metabólitos são excretados no leite m aterno. Fale com seu médico. O \\nalbendazol  não deve ser usado durante a amamentação, a não ser que os benefícios potenciais para a mãe \\njustifiquem os possíveis riscos para o filho.  \\nEste medicamento não deve ser utilizado por mulheres grávidas sem orientação  médica ou do cirurgião -\\ndentista.  \\n4. O QUE DEVO SABER ANTES DE USAR ESTE MEDICAMENTO?  \\nAdvertências  \\nAvise ao seu médico antes  de começar a usar este medicamento:  \\n- se você planeja ficar grávida, está grávida ou desconfia estar grávida;  \\n- se você está amamentando.  \\nO tratamento com albendazol  pode revelar casos de neurocisticercose preexistente (infecção de sistema nervoso \\ncentral causada pela ingestão da larva de Taenia spp que se caracteriza pela presença de lesões intracerebrais \\ncalcificadas), princi palmente em áreas de alta incidência de teníase. Caso voc ê apresente convulsão ou outros \\nsintomas neurológicos quando estiver usando o medicamento, n esse caso, a terapia com ester oides e \\nanticonvulsivantes deve ser iniciada imediatamente, procure seu médic o.  \\nProblemas no fígado  \\nAntes de tomar albendazol, informe o seu médico se já tomou albendazol  anteriormente e se teve  \\nproblemas de fígado com ele.  \\nFoi relatado inflamação do fígado em pacientes tomando albendazol.  Durante o tratamento com albendazol co mprimidos, monitorar as enzimas hepáticas, devido à  \\npossibilidade de danos no fígado.  \\nPare de tomar albendazol e contate um médico se tiver sintomas de problemas de fígado (vide item 8. QUAIS OS \\nMALES QUE ESTE MEDICAMENTO PODE ME CAUSAR?).  \\nPrecauções  \\nPara evitar futuras infecções por germes ou parasitas, você deve tomar algumas medidas de prevenção.  \\nMEDIDAS GERAIS DE PREVENÇÃO CONTRA VERMINOSES:  \\n1. Manter limpas as instalações sanitárias e lavar as mãos após utilizá -las.  \\n2. Evitar andar descalço.  \\n3. Cortar e manter limpas as unhas.  \\n4. Beber água filtrada ou fervida.  \\n5. Lavar e cozinhar bem os alimentos.  \\n6. Manter os alimentos e os depósitos de água cobertos.  \\n7. Combater os insetos.  \\n8. Lavar as mãos antes das refeições.  \\n9. Lavar os utensílios do mésticos.  \\n10. Ferver as roupas íntimas e de cama.  \\nESSAS MEDIDAS SE ESTENDEM A TODOS OS MEMBROS DA FAMÍLIA.  \\nInterações com medicamentos, alimentos e exames laboratoriais  \\nOs comprimidos de albendazol  podem ser tomados durante ou após as refeições ou de estômago vazio.  De modo \\ngeral, você pode continuar a tomar outros medicamentos durante o tratamento com albendazol , exceto se estiver \\nfazendo uso de cimetidina, praziquantel e dexametasona, pois estes medicamentos podem provocar o aumento da \\nconcentração d os metabólitos do medicamento no sangue. Já o ritonavir, a fenitoína, a carbamazepina e o \\nfenobarbital podem reduzir as concentrações do metabólito do medicamento no sangue; quando estes forem usados \\nconcomitantemente com albendazol .  \\nNão se observaram int erações relevantes com alimentos nem com exames laboratoriais.  \\nInforme ao seu médico ou cirurgião -dentista se você está fazendo uso de algum outro medicamento.  \\nNão use medicamento sem o conhecimento do seu médico. Pode ser perigoso para sua saúde.  \\nAtenç ão: contém lactose monoidratada.  Este medicamento  \\nnão deve ser usado por pessoas com síndrome de má -absorção de glicose -galactose.  \\n5. ONDE, COMO E POR QUANTO TEMPO POSSO GUARDAR ESTE MEDICAMENTO?  \\nConservar em temperatura  ambiente ( temperatura entre 15 e 30ºC). Proteger da luz e umidade.  \\nNúmero de lote e datas de fabricação e validade: vide embalagem.  \\nNão use medicamento com o prazo de validade vencido. Guarde -o em sua embalagem original.  \\nAspecto do medicamento:   \\nComprim ido na cor branca a bege claro, oblongo, monossectado, com sabor e odor de laranja.  \\nAntes de usar, observe o aspecto do medicamento.  Caso ele esteja no prazo de validade e você observe alguma \\nmudança no aspecto, consulte o farmacêutico para saber se poderá  utilizá -lo. \\nTODO MEDICAMENTO DEVE SER MANTIDO FORA DO ALCANCE DAS CRIANÇAS .  \\n6. COMO DEVO USAR ESTE MEDICAMENTO?  \\nModo de usar  \\nOs comprimidos podem ser engolidos com água ou mastigados. Não há necessidade de procedimentos especiais, tais \\ncomo dieta ou u so de agentes purgantes.  \\nAlgumas pessoas, particularmente as crianças, podem ter dificuldade de engolir os comprimidos inteiros. Nesse \\ncaso, devem ser incentivadas a mastigar os comprimidos com um pouco de água ou triturá -los.  \\nSiga a orientação do médico  sobre a dose e os horários corretos da medicação que você deve adotar. Não tome mais \\ndo que o médico receitou. É melhor ingerir albendazol  na mesma hora todos os dias.  \\nSe você não apresentar melhora após três semanas, fale com seu médico. Um segundo cicl o de tratamento pode ser \\nnecessário.  \\nPosologia  \\nIndicações  Idade  Dose  Período  \\nAscaris lumbricoides  \\nNecator americanus  \\nTrichuris trichiura  Adultos e crianças \\nacima de 2 anos de \\nidade  400 mg ( 1 comprimido de 400 mg)  Dose única  Enterobius vermicula ris  \\nAncylostoma duodenale  Adultos e crianças \\nacima de 2 anos de \\nidade  400 mg (1 comprimido de 400 mg)  Dose única  \\nStrongyloides stercoralis  \\nTaenia ssp.  \\nHymenolepis nana  Adultos e crianças \\nacima de 2 anos de \\nidade  400 mg (1 comprimido de 400 mg)  1 dose por dia \\ndurante 3 dias  \\nGiardíase  \\n(Giardia lamblia , G. \\nduodenalis , G. \\nintestinalis )  Crianças de 2 a 12 anos \\nde idade  400 mg (1 comprimido de 400 mg)  1 dose por dia \\ndurante 5 dias  \\nLarva migrans  cutânea  Adultos e crianças \\nacima de 2 anos de \\nidade  400 mg (1 comprimido de 400 mg)  1 dose por dia por \\n1 a 3 dias  \\nOpistorquíase \\n(Opisthorchis viverrini)  Adultos e crianças \\nacima de 2 anos de \\nidade  400 mg (1 comprimido de 400 mg)  2 doses por dia \\ndurante 3 dias  \\nNo caso de infestação por Enterobius vermicularis , fale com seu médico, que dará orientações sobre medidas de \\nhigiene tanto para você quanto para as pessoas que utilizam a mesma moradia.   \\nNo caso de contaminação comprovada por Hymenolepis nana , você também deve conversar com o médico, que \\npode recomendar um segundo ciclo de tratamento.  \\nSiga a orientação de seu médico, respeitando sempre os horários, as doses e a duração do  tratamento.  \\nNão interrompa o tratamento sem o conhecimento do seu médico.  \\n7. O QUE DEVO FAZER QUANDO EU ME ESQUECER D E USAR ESTE MEDICAMENTO?  \\nSe você esquecer uma dose, tome -a assim que se lembrar e mantenha o horário normal da próxima dose. No entanto, \\nse ao perceber que deixou de tomar uma dose e você já estiver no horário da próxima, pule a dose esquecida e \\ncontinue usando o medicamento nos horários normais.  \\nEm caso de dúvidas, procure orientação do farmacêutico ou de seu médico ou cirurgião -dentista.  \\n8. QUAIS OS MALES QUE ESTE MEDICAMENTO PODE ME CAUSAR?  \\nAlguns efeitos indesejáveis relacionados ao uso de albendazol  estão descritos abaixo. Se você apresentar esses ou \\noutros sintomas causados pelo uso do medicamento, informe seu médico.  \\nReações incomuns (ocorrem de 0,1% a 1% dos pacientes que utilizam este medicamento): dor epigástrica ou \\nabdominal, dor de cabeça, ver tigem, enjoo , vômito ou diarr eia.  \\nReações raras (ocorrem de 0,01% a 0,1% dos pacientes que utilizam este medicamento): alergias e elevações \\ndos níveis de algumas enzimas do fígado.  \\nReações muito raras (ocorrem em menos de 0,01% dos pacientes que utilizam  este medicamento): \\nvermelhidão da pele, uma doença conhecida como síndrome de Stevens -Johnson, caracterizada por vermelhidão \\nintensa, descamação da pele e lesões, com possibilidade de sintomas sistêmicos (que abrangem todo o organismo) \\ngraves.  \\nReações de sconhecidas (não pode ser estimado a partir dos dados disponíveis):  Pare de tomar  \\nalbendazol e contate imediatamente um médico se tiver algum dos seguintes sintomas:  \\nNáuseas ou vômitos, febre, sensação de cansaço, perda de apetite, urina de cor escura, f ezes de cor clara,  \\namarelecimento da pele ou da parte branca dos olhos, coceira, erupção cutânea ou dor na parte superior  \\ndo estômago. Estes sintomas podem ser sinais de lesão hepática.  \\nInforme ao seu médico, cirurgião -dentista ou farmacêutico o apare cimento de reações indesejáveis pelo uso \\ndo medicamento. Informe também à empresa através  do seu serviço de atendimento.  \\n9. O QUE FAZER SE ALGUÉM USAR UMA QUANTIDADE MAIOR DO QUE A INDICADA DESTE \\nMEDICAMENTO?  \\nSe você acidentalmente ingerir mais albendazol  do que lhe foi receitado, avise ao seu médico imediatamente. Ele \\ndeverá tomar as providências adequadas. Em alguns casos pode ser necessário fazer lavagem gástrica ou tomar \\nmedidas gerais de suporte.  \\nEm caso de uso de grande quantidade deste medicamento,  procure rapidamente socorro médico e leve a \\nembalagem ou bula do medicamento , se possível. Ligue para 0800 722 6001 , se você precisar de mais \\norientações.  \\nIII - DIZERES LEGAIS  \\nRegistro : 1.6773.0517  \\nRegistrado por: LEGRAND PHARMA INDÚSTRIA FARMACÊUTICA LTDA  \\nRod. Jornalista Francisco Aguirre  Proença, KM 08 \\nBairro Chácara Assay  \\nHortolândia /SP - CEP: 13186 -901 \\nCNPJ: 05.044.984/0001 -26 \\nINDÚSTRIA BRASILEIRA  \\nProduzido  por: EMS S/A  \\nHortolâ ndia/SP \\nOu \\nProduzido por: NOVAMED FABRICAÇÃO DE PRODUTOS FARMACÊUTICOS LTDA  \\nManaus/AM  \\nVENDA SOB PRESCRIÇÃO  \\nEsta bula foi atualizada conforme Bula Padrão aprovada pela Anvisa em ( 18/12/2 023) \\nbula -pac-378474 -LEG -v1 \\n Histórico de alteração para a bula  \\nDados da submissão eletrônica  Dados da petição/notificação que altera bula  Dados das alterações de bulas  \\nData do \\nexpediente  Nº. \\nexpediente  Assunto  Data do \\nexpediente  Nº. \\nexpediente  Assunt o Data da \\naprovação  Itens de bula  Versões \\n(VP/VPS)  Apresentações relacionadas  \\n20/02/2017  0283253/17 -\\n4 (10459) – \\nGENÉRICO – \\nInclusão Inicial \\nde \\nTexto de Bula – \\nRDC 60/12  \\n NA NA NA NA Atualização de texto de bula \\nconforme bula padrão \\npublicada no bulário.  \\nAdequação à RDC 47/2009.  NA NA \\n10/07/2018  0549998/18 -\\n4 (10452) – \\nGENÉRICO – \\nNotificação de \\nAlteração de \\nTexto de Bula – \\nRDC 60/12  NA NA NA NA I) IDENTIFICAÇÃO DO \\nMEDICAMENTO  \\n5. ONDE, COMO E POR \\nQUANTO TEMPO POSSO \\nGUARDAR ESTE \\nMEDICAMENTO?  VP Comprimido ma stigável 200mg e \\n400mg  \\nI) IDENTIFICAÇÃO DO \\nMEDICAMENTO  \\n7. CUIDADOS DE \\nARMAZENAMENTO DO \\nMEDICAMENTO  VPS Comprimido mastigável 200mg e \\n400mg  \\n19/11/2019  3191909/19 -\\n0 (10452) – \\nGENÉRICO – \\nNotificação de \\nAlteração de \\nTexto de Bula – \\nRDC 60/12  13/03/2 017 0396999/17 -\\n1 10506 - GENÉRICO - \\nModificação Pós -\\nRegistro - CLONE  08/04/2019  5. Onde, como e por quanto \\ntempo posso guardar este \\nmedicamento?  VP Comprimido mastigável 400mg  \\n7. Cuidados de \\narmazenamento do \\nmedicamento  VPS \\n13/03/2017  0397011/ 17-\\n6 10506 - GENÉRICO - \\nModificação Pós -\\nRegistro - CLONE  08/04/2019  III) Dizeres legais  VP / VPS  13/03/2017  0397012/17 -\\n4 10506 - GENÉRICO - \\nModificação Pós -\\nRegistro – CLONE  08/04/2019  \\n I) Identificação do \\nmedicamento (composição)  VP / VPS  \\n23/04/ 2019  0362766/19 -\\n7 10081 - GENERICO - \\nCANCELAMENTO \\nDE REGISTRO DA \\nAPRESENTAÇÃO - \\nANVISA  13/05/2019  I) Identificação do \\nmedicamento  \\n5. Onde, como e por quanto \\ntempo posso guardar este \\nmedicamento?  \\n6. Como devo usar este \\nmedicamento?  VP \\nI) Identific ação do \\nmedicamento  \\n7. Cuidados de \\narmazenamento do \\nmedicamento  \\n8. Posologia e modo de usar  VPS \\nNA NA NA NA 5. Advertências e precauções  \\n6. Interações \\nmedicamentosas  \\n9. Reações adversas  VPS \\n29/10/2020  3780935/20 -\\n1 (10452) – \\nGENÉRICO – \\nNotificação de  \\nAlteração de \\nTexto de Bula – \\nRDC 60/12  NA NA NA NA 4. O que devo saber antes de \\nusar este medicamento?  \\nIII – Dizeres Legais  \\n5. Advertências e precauções  \\nIII – Dizeres Legais  VP \\nVPS Comprimido mastigável 400mg  \\n12/04/2021   \\n1398722 /21-\\n4 (10452) – \\nGENÉRIC O – \\nNotificação de \\nAlteração de \\nTexto de Bula – \\nRDC 60/12  NA NA NA NA 9. REAÇÕES ADVERSAS  VPS Comprimido mastigável 400mg  \\n31/05/2022  4235406/22 -\\n1 (10452) – \\nGENÉRICO – \\nNotificação de \\nAlteração de NA NA NA NA DIZERES LEGAIS  VP/VP S Comprimido mastigável de 400 mg. \\nEmbalagem contendo 1 ou 5 \\nunidades . '"
      ]
     },
     "execution_count": 5,
     "metadata": {},
     "output_type": "execute_result"
    }
   ],
   "source": [
    "text"
   ]
  },
  {
   "cell_type": "code",
   "execution_count": 6,
   "metadata": {},
   "outputs": [
    {
     "name": "stderr",
     "output_type": "stream",
     "text": [
      "/home/navarro/.local/lib/python3.10/site-packages/transformers/generation/configuration_utils.py:492: UserWarning: `do_sample` is set to `False`. However, `temperature` is set to `0.0` -- this flag is only used in sample-based generation modes. You should set `do_sample=True` or unset `temperature`.\n",
      "  warnings.warn(\n"
     ]
    }
   ],
   "source": [
    "dict_row = processor.process_pdf(text, filename)"
   ]
  },
  {
   "cell_type": "code",
   "execution_count": 7,
   "metadata": {},
   "outputs": [
    {
     "data": {
      "text/plain": [
       "{'nome': 'albendazol',\n",
       " 'id': 'pdfs/0246921242',\n",
       " 'full_topic': 'Bula de albendazol  1. PARA QUE ESTE MEDICAMENTO É INDICADO? O albendazol é usado para tratar uma grande variedade de condições causadas por vermes ou parasitas. Estudos mostram que o albendazol é eficaz no tratamento de infecções por Ascaris lumbricoides, Enterobius vermicularis, Necator americanus, Ancylostoma duodenale, Trichuris trichiura, Strongyloides stercoralis, Taenia spp. e Hymenolepis nana ; de opistorquíase ( Opisthorchis viverrini ) e larva migrans  cutânea; e de giardíase ( Giardia lamblia, G. duodenalis, G. intestinalis ) em crianças. 2. COMO ESTE MEDICAMENTO FUNCIONA? O albendazol pertence a uma classe de compostos anti-helmínticos e antiparasitários benzimidazólicos. O albendazol tem a capacidade de eliminar vermes e parasitas do seu corpo, matando-os. 3. QUANDO NÃO DEVO USAR ESTE MEDICAMENTO? Não deve ser utilizado durante a gravidez, suspeita de gravidez ou planeja engravidar. Não se sabe se o albendazol ou seus metabólitos são excretados no leite materno. Fale com seu médico. O albendazol não deve ser usado durante a amamentação, a não ser que os benefícios potenciais para a mãe justifiquem os possíveis riscos para o filho. Este medicamento não deve ser utilizado por mulheres grávidas sem orientação médica ou do cirurgião-dentista. 4. O QUE DEVO SABER ANTES DE USAR ESTE MEDICAMENTO? Antes de começar a usar este medicamento, avise ao seu médico se você planeja ficar grávida, está grávida ou desconfia estar grávida. É importante também informar ao seu médico se você está amamentando. O tratamento com albendazol pode revelar casos de neurocisticercose preexistente (infecção de sistema nervoso central causada pela ingestão da larva de Taenia spp que se caracteriza pela presença de lesões intracerebrais calcificadas), principalmente em áreas de alta incidência de teníase. Caso você apresente convulsão ou outros sintomas neurológicos durante o tratamento com o medicamento, a terapia com esteróides e anticonvulsivantes deve ser iniciada imediatamente, procure seu médico. Além disso, informe ao seu médico se você já tomou albendazol anteriormente e se teve problemas de fígado com ele. Foi relatado inflamação do fígado em pacientes tomando albendazol. Durante o tratamento com albendazol comprimidos, monitorar as enzimas hepáticas devido à possibilidade de danos no fígado. Pare de tomar albendazol e contate um médico se tiver sintomas de problemas de fígado. Também é 5. ONDE, COMO E POR QUANTO TEMPO POSSO GUARDAR ESSE MEDICAMENTO? Conservar em temperatura ambiente ( temperatura entre 15 e 30ºC). Proteger da luz e umidade.   Número de lote e datas de fabricação e validade: vide embalagem.   Não use medicamento com o prazo de validade vencido. Guarde -o em sua embalagem original.   Aspecto do medicamento:    Comprimido na cor branca a bege claro, oblongo, monossectado, com sabor e odor de laranja.   Antes de usar, observe o aspecto do medicamento.  Caso ele esteja no prazo de validade e você observe alguma mudança no aspecto, consulte o farmacêutico para saber se poderá  utilizá -lo.  TODO MEDICAMENTO DEVE SER MANTIDO FORA DO ALCANCE DAS CRIANÇAS . 6. COMO DEVO USAR ESSE MEDICAMENTO? Siga a orientação de seu médico, respeitando sempre os horários, as doses e a duração do tratamento. Não interrompa o tratamento sem o conhecimento do seu médico.   Em caso de dúvidas, procure orientação do farmacêutico ou de seu médico ou cirurgião -dentista.   Alguns efeitos indesejáveis relacionados ao uso de albendazol  estão descritos abaixo. Se você apresentar esses ou outros sintomas causados pelo uso do medicamento, informe seu médico.   Reações incomuns (ocorrem de 0,1% a 1% dos pacientes que utilizam este medicamento): dor epigástrica ou abdominal, dor de cabeça, ver tigem, enjoo , vômito ou diarreia.   Reações raras (ocorrem de 0,01% a 0,1% dos pacientes que utilizam este medicamento): alergias e elevações dos níveis de algumas enzimas do fígado.   Reações muito raras (ocorrem em menos de 0,01% dos pacientes que utilizam este medicamento): vermelhidão da pele, uma doença conhecida como síndrome de Stevens -Johnson, caracterizada por vermelhidão intensa, descamação da pe 7. O QUE DEVO FAZER QUANDO EU ME ESQUECER DE USAR ESSE MEDICAMENTO? Se você esquecer uma dose, tome-a assim que se lembrar e mantenha o horário normal da próxima dose. No entanto, se ao perceber que deixou de tomar uma dose e você já estiver no horário da próxima, pule a dose esquecida e continue usando o medicamento nos horários normais. Em caso de dúvidas, procure orientação do farmacêutico ou de seu médico ou cirurgião-dentista. 8. QUAIS OS MALES QUE ESTE MEDICAMENTO PODE ME CAUSAR? Alguns efeitos indesejáveis relacionados ao uso de albendazol  estão descritos abaixo. Se você apresentar esses ou outros sintomas causados pelo uso do medicamento, informe seu médico. Reações incomuns (ocorrem de 0,1% a 1% dos pacientes que utilizam este medicamento): dor epigástrica ou abdominal, dor de cabeça, ver tigem, enjoo , vômito ou diarreia. Reações raras (ocorrem de 0,01% a 0,1% dos pacientes que utilizam este medicamento): alergias e elevações dos níveis de algumas enzimas do fígado. Reações muito raras (ocorrem em menos de 0,01% dos pacientes que utilizam  este medicamento): vermelhidão da pele, uma doença conhecida como síndrome de Stevens -Johnson, caracterizada por vermelhidão intensa, descamação da pele e lesões, com possibilidade de sintomas sistêmicos (que abrangem todo o organismo) graves. Reações de sconhecidas (não pode ser estimado a partir dos dados disponíveis): Pare de tomar albendazol e contate imediatamente um médico se tiver algum dos seguintes sintomas: Náuseas ou v 9. O QUE FAZER SE ALGUÉM USAR UMA QUANTIDADE MAIOR DO QUE A INDICADA DESTE MEDICAMENTO? Se você acidentalmente ingerir mais albendazol  do que lhe foi receitado, avise ao seu médico imediatamente. Ele deverá tomar as providências adequadas. Em alguns casos pode ser necessário fazer lavagem gástrica ou tomar medidas gerais de suporte. Em caso de uso de grande quantidade deste medicamento, procure rapidamente socorro médico e leve a embalagem ou bula do medicamento , se possível. Ligue para 0800 722 6001 , se você precisar de mais orientações.',\n",
       " '1. PARA QUE ESTE MEDICAMENTO É INDICADO?': 'O albendazol é usado para tratar uma grande variedade de condições causadas por vermes ou parasitas. Estudos mostram que o albendazol é eficaz no tratamento de infecções por Ascaris lumbricoides, Enterobius vermicularis, Necator americanus, Ancylostoma duodenale, Trichuris trichiura, Strongyloides stercoralis, Taenia spp. e Hymenolepis nana ; de opistorquíase ( Opisthorchis viverrini ) e larva migrans  cutânea; e de giardíase ( Giardia lamblia, G. duodenalis, G. intestinalis ) em crianças.',\n",
       " '2. COMO ESTE MEDICAMENTO FUNCIONA?': 'O albendazol pertence a uma classe de compostos anti-helmínticos e antiparasitários benzimidazólicos. O albendazol tem a capacidade de eliminar vermes e parasitas do seu corpo, matando-os.',\n",
       " '3. QUANDO NÃO DEVO USAR ESTE MEDICAMENTO?': 'Não deve ser utilizado durante a gravidez, suspeita de gravidez ou planeja engravidar. Não se sabe se o albendazol ou seus metabólitos são excretados no leite materno. Fale com seu médico. O albendazol não deve ser usado durante a amamentação, a não ser que os benefícios potenciais para a mãe justifiquem os possíveis riscos para o filho. Este medicamento não deve ser utilizado por mulheres grávidas sem orientação médica ou do cirurgião-dentista.',\n",
       " '4. O QUE DEVO SABER ANTES DE USAR ESTE MEDICAMENTO?': 'Antes de começar a usar este medicamento, avise ao seu médico se você planeja ficar grávida, está grávida ou desconfia estar grávida. É importante também informar ao seu médico se você está amamentando. O tratamento com albendazol pode revelar casos de neurocisticercose preexistente (infecção de sistema nervoso central causada pela ingestão da larva de Taenia spp que se caracteriza pela presença de lesões intracerebrais calcificadas), principalmente em áreas de alta incidência de teníase. Caso você apresente convulsão ou outros sintomas neurológicos durante o tratamento com o medicamento, a terapia com esteróides e anticonvulsivantes deve ser iniciada imediatamente, procure seu médico. Além disso, informe ao seu médico se você já tomou albendazol anteriormente e se teve problemas de fígado com ele. Foi relatado inflamação do fígado em pacientes tomando albendazol. Durante o tratamento com albendazol comprimidos, monitorar as enzimas hepáticas devido à possibilidade de danos no fígado. Pare de tomar albendazol e contate um médico se tiver sintomas de problemas de fígado. Também é',\n",
       " '5. ONDE, COMO E POR QUANTO TEMPO POSSO GUARDAR ESSE MEDICAMENTO?': 'Conservar em temperatura ambiente ( temperatura entre 15 e 30ºC). Proteger da luz e umidade.   Número de lote e datas de fabricação e validade: vide embalagem.   Não use medicamento com o prazo de validade vencido. Guarde -o em sua embalagem original.   Aspecto do medicamento:    Comprimido na cor branca a bege claro, oblongo, monossectado, com sabor e odor de laranja.   Antes de usar, observe o aspecto do medicamento.  Caso ele esteja no prazo de validade e você observe alguma mudança no aspecto, consulte o farmacêutico para saber se poderá  utilizá -lo.  TODO MEDICAMENTO DEVE SER MANTIDO FORA DO ALCANCE DAS CRIANÇAS .',\n",
       " '6. COMO DEVO USAR ESSE MEDICAMENTO?': 'Siga a orientação de seu médico, respeitando sempre os horários, as doses e a duração do tratamento. Não interrompa o tratamento sem o conhecimento do seu médico.   Em caso de dúvidas, procure orientação do farmacêutico ou de seu médico ou cirurgião -dentista.   Alguns efeitos indesejáveis relacionados ao uso de albendazol  estão descritos abaixo. Se você apresentar esses ou outros sintomas causados pelo uso do medicamento, informe seu médico.   Reações incomuns (ocorrem de 0,1% a 1% dos pacientes que utilizam este medicamento): dor epigástrica ou abdominal, dor de cabeça, ver tigem, enjoo , vômito ou diarreia.   Reações raras (ocorrem de 0,01% a 0,1% dos pacientes que utilizam este medicamento): alergias e elevações dos níveis de algumas enzimas do fígado.   Reações muito raras (ocorrem em menos de 0,01% dos pacientes que utilizam este medicamento): vermelhidão da pele, uma doença conhecida como síndrome de Stevens -Johnson, caracterizada por vermelhidão intensa, descamação da pe',\n",
       " '7. O QUE DEVO FAZER QUANDO EU ME ESQUECER DE USAR ESSE MEDICAMENTO?': 'Se você esquecer uma dose, tome-a assim que se lembrar e mantenha o horário normal da próxima dose. No entanto, se ao perceber que deixou de tomar uma dose e você já estiver no horário da próxima, pule a dose esquecida e continue usando o medicamento nos horários normais. Em caso de dúvidas, procure orientação do farmacêutico ou de seu médico ou cirurgião-dentista.',\n",
       " '8. QUAIS OS MALES QUE ESTE MEDICAMENTO PODE ME CAUSAR?': 'Alguns efeitos indesejáveis relacionados ao uso de albendazol  estão descritos abaixo. Se você apresentar esses ou outros sintomas causados pelo uso do medicamento, informe seu médico. Reações incomuns (ocorrem de 0,1% a 1% dos pacientes que utilizam este medicamento): dor epigástrica ou abdominal, dor de cabeça, ver tigem, enjoo , vômito ou diarreia. Reações raras (ocorrem de 0,01% a 0,1% dos pacientes que utilizam este medicamento): alergias e elevações dos níveis de algumas enzimas do fígado. Reações muito raras (ocorrem em menos de 0,01% dos pacientes que utilizam  este medicamento): vermelhidão da pele, uma doença conhecida como síndrome de Stevens -Johnson, caracterizada por vermelhidão intensa, descamação da pele e lesões, com possibilidade de sintomas sistêmicos (que abrangem todo o organismo) graves. Reações de sconhecidas (não pode ser estimado a partir dos dados disponíveis): Pare de tomar albendazol e contate imediatamente um médico se tiver algum dos seguintes sintomas: Náuseas ou v',\n",
       " '9. O QUE FAZER SE ALGUÉM USAR UMA QUANTIDADE MAIOR DO QUE A INDICADA DESTE MEDICAMENTO?': 'Se você acidentalmente ingerir mais albendazol  do que lhe foi receitado, avise ao seu médico imediatamente. Ele deverá tomar as providências adequadas. Em alguns casos pode ser necessário fazer lavagem gástrica ou tomar medidas gerais de suporte. Em caso de uso de grande quantidade deste medicamento, procure rapidamente socorro médico e leve a embalagem ou bula do medicamento , se possível. Ligue para 0800 722 6001 , se você precisar de mais orientações.'}"
      ]
     },
     "execution_count": 7,
     "metadata": {},
     "output_type": "execute_result"
    }
   ],
   "source": [
    "dict_row"
   ]
  }
 ],
 "metadata": {
  "kernelspec": {
   "display_name": "python310",
   "language": "python",
   "name": "python3"
  },
  "language_info": {
   "codemirror_mode": {
    "name": "ipython",
    "version": 3
   },
   "file_extension": ".py",
   "mimetype": "text/x-python",
   "name": "python",
   "nbconvert_exporter": "python",
   "pygments_lexer": "ipython3",
   "version": "3.10.13"
  }
 },
 "nbformat": 4,
 "nbformat_minor": 2
}
