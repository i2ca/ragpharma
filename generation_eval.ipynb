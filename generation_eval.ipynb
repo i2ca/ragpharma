{
 "cells": [
  {
   "cell_type": "code",
   "execution_count": 1,
   "metadata": {},
   "outputs": [
    {
     "name": "stderr",
     "output_type": "stream",
     "text": [
      "/home/navarro/miniconda3/envs/python310/lib/python3.10/site-packages/tqdm/auto.py:21: TqdmWarning: IProgress not found. Please update jupyter and ipywidgets. See https://ipywidgets.readthedocs.io/en/stable/user_install.html\n",
      "  from .autonotebook import tqdm as notebook_tqdm\n",
      "/home/navarro/.local/lib/python3.10/site-packages/huggingface_hub/file_download.py:1132: FutureWarning: `resume_download` is deprecated and will be removed in version 1.0.0. Downloads always resume when possible. If you want to force a new download, use `force_download=True`.\n",
      "  warnings.warn(\n",
      "Loading checkpoint shards: 100%|██████████| 3/3 [00:02<00:00,  1.22it/s]\n",
      "/home/navarro/.local/lib/python3.10/site-packages/huggingface_hub/file_download.py:1132: FutureWarning: `resume_download` is deprecated and will be removed in version 1.0.0. Downloads always resume when possible. If you want to force a new download, use `force_download=True`.\n",
      "  warnings.warn(\n"
     ]
    }
   ],
   "source": [
    "import json\n",
    "import pandas as pd\n",
    "import evaluate\n",
    "\n",
    "path = 'results/bula_all.jsonl'\n",
    "\n",
    "mini_paciente = pd.read_csv('datasets/mini_paciente.csv')\n",
    "\n",
    "list_json = []\n",
    "\n",
    "with open(path, 'r') as file:\n",
    "    for line in file:\n",
    "        line_json = json.loads(line)\n",
    "        line_json['full_topic'] = mini_paciente.loc[mini_paciente['id'] == line_json['id'], 'full_topic'].values\n",
    "        list_json.append(line_json)\n",
    "\n",
    "from bula_process.models import Mistral, Rag, Llama3\n",
    "model = Mistral()\n",
    "rag = Rag()\n",
    "\n",
    "def compute_bleu(y_true, y_pred):\n",
    "    metric = evaluate.load('bleu')\n",
    "    metric.add_batch(predictions=y_pred, references=y_true)\n",
    "    report = metric.compute()\n",
    "    bleu = report['bleu'] * 100\n",
    "    return bleu\n",
    "\n",
    "def compute_bertscore(y_pred, y_true):\n",
    "    metric = evaluate.load('bertscore')\n",
    "    reference_batch = [[y_true]]\n",
    "    sys_batch = [y_pred]\n",
    "    metric.add_batch(predictions=sys_batch, references=reference_batch)\n",
    "    report = metric.compute(model_type=\"distilbert-base-uncased\")\n",
    "    return report\n",
    "\n",
    "def make_question_rag(id):\n",
    "    data = list_json[id]\n",
    "    context = rag.retrieve(data['query'])\n",
    "    question_prompt = f\"[INST]Answer the question: [/INST] Context: {context} \\n {data['query']} \\nAnswer: \"\n",
    "    answer_model = model.inference(question_prompt)\n",
    "\n",
    "    gold_choice = ''\n",
    "\n",
    "\n",
    "    for idx, choice in enumerate(data['choices']):\n",
    "        if idx == int(data['gold']):\n",
    "            gold_choice = choice\n",
    "\n",
    "\n",
    "    print(f\"Resposta do modelo:\")\n",
    "\n",
    "    print(answer_model)\n",
    "\n",
    "    print(f\"Resposta certa:\")\n",
    "    print(gold_choice)\n",
    "    list_a = [[data['query'], answer_model]]\n",
    "    list_b = [gold_choice]\n",
    "    bert_score = compute_bertscore(answer_model, gold_choice)\n",
    "    print('\\n')\n",
    "    print(f\"BERT Score: {bert_score}\")\n",
    "    bleu = compute_bleu(list_a, list_b)\n",
    "    print(f\"BLEU metric: {bleu}\")\n",
    "\n",
    "\n",
    "def make_question_vanilla(id):\n",
    "    data = list_json[id]\n",
    "    question_prompt = f\"[INST]Answer the question: [/INST] \" + data['query'] + \"\\nAnswer: \"\n",
    "    answer_model = model.inference(question_prompt)\n",
    "\n",
    "    gold_choice = ''\n",
    "    for idx, choice in enumerate(data['choices']):\n",
    "        if idx == int(data['gold']):\n",
    "            gold_choice = choice\n",
    "\n",
    "    print(data['query'])\n",
    "    print(f\"Resposta do modelo:\")\n",
    "\n",
    "    print(answer_model)\n",
    "    print(f\"Resposta certa:\")\n",
    "    print(gold_choice)\n",
    "    list_a = [[data['query'], answer_model]]\n",
    "    list_b = [gold_choice]\n",
    "    bert_score = compute_bertscore(answer_model, gold_choice)\n",
    "    print('\\n')\n",
    "\n",
    "    print(f\"BERT Score: {bert_score}\")\n",
    "    bleu = compute_bleu(list_a, list_b)\n",
    "    print(f\"BLEU metric: {bleu}\")"
   ]
  },
  {
   "cell_type": "code",
   "execution_count": 2,
   "metadata": {},
   "outputs": [
    {
     "name": "stdout",
     "output_type": "stream",
     "text": [
      "Resposta do modelo:\n",
      "    Based on the provided text, the possible side effects or adverse reactions of using Neo Mistatin creme include irritation and sensitivity, including sensations of burning and itching. However, the text does not mention any specific information about severe side\n",
      "Resposta certa:\n",
      "irritação e sensibilidade, incluindo sensação de queimação e coceira\n"
     ]
    },
    {
     "name": "stderr",
     "output_type": "stream",
     "text": [
      "/home/navarro/.local/lib/python3.10/site-packages/huggingface_hub/file_download.py:1132: FutureWarning: `resume_download` is deprecated and will be removed in version 1.0.0. Downloads always resume when possible. If you want to force a new download, use `force_download=True`.\n",
      "  warnings.warn(\n"
     ]
    },
    {
     "name": "stdout",
     "output_type": "stream",
     "text": [
      "\n",
      "\n",
      "BERT Score: {'precision': [0.6267098188400269], 'recall': [0.629981279373169], 'f1': [0.6283412575721741], 'hashcode': 'distilbert-base-uncased_L5_no-idf_version=0.3.12(hug_trans=4.40.2)'}\n",
      "BLEU metric: 0.0\n"
     ]
    }
   ],
   "source": [
    "make_question_rag(109)"
   ]
  },
  {
   "cell_type": "code",
   "execution_count": 3,
   "metadata": {},
   "outputs": [
    {
     "name": "stdout",
     "output_type": "stream",
     "text": [
      "Quais são os sintomas de efeitos colaterais que podem ocorrer com o uso de Neo Mistatin creme?\n",
      "Resposta do modelo:\n",
      "    The Neo-Mistatin cream is a topical medication used to treat various skin infections. Like all medications, it can cause side effects, although not everyone who uses it will experience them. Some common side effects of Neo-M\n",
      "Resposta certa:\n",
      "irritação e sensibilidade, incluindo sensação de queimação e coceira\n",
      "\n",
      "\n",
      "BERT Score: {'precision': [0.5973389744758606], 'recall': [0.608060359954834], 'f1': [0.6026520133018494], 'hashcode': 'distilbert-base-uncased_L5_no-idf_version=0.3.12(hug_trans=4.40.2)'}\n",
      "BLEU metric: 0.0\n"
     ]
    }
   ],
   "source": [
    "make_question_vanilla(109)"
   ]
  },
  {
   "cell_type": "code",
   "execution_count": 4,
   "metadata": {},
   "outputs": [
    {
     "name": "stdout",
     "output_type": "stream",
     "text": [
      "Resposta do modelo:\n",
      "    One common side effect (>1/10) that can occur with the use of Oxaliplatina and is related to hematological function is leucopenia.\n",
      "Resposta certa:\n",
      "Anemia\n",
      "\n",
      "\n",
      "BERT Score: {'precision': [0.6504451036453247], 'recall': [0.7298442125320435], 'f1': [0.6878610253334045], 'hashcode': 'distilbert-base-uncased_L5_no-idf_version=0.3.12(hug_trans=4.40.2)'}\n",
      "BLEU metric: 0.0\n"
     ]
    }
   ],
   "source": [
    "make_question_rag(95)"
   ]
  },
  {
   "cell_type": "code",
   "execution_count": 5,
   "metadata": {},
   "outputs": [
    {
     "name": "stdout",
     "output_type": "stream",
     "text": [
      "Qual é a reação muito comum (>1/10) que pode ocorrer com o uso de Oxaliplatina e é relacionada à função hematológica?\n",
      "Resposta do modelo:\n",
      "    A common reaction (more than 1 in 10 people) that can occur with the use of Oxaliplatin and is related to its hematologic function is Neutropenia. Neutropenia is a condition\n",
      "Resposta certa:\n",
      "Anemia\n",
      "\n",
      "\n",
      "BERT Score: {'precision': [0.6361693739891052], 'recall': [0.7469609975814819], 'f1': [0.6871278882026672], 'hashcode': 'distilbert-base-uncased_L5_no-idf_version=0.3.12(hug_trans=4.40.2)'}\n",
      "BLEU metric: 0.0\n"
     ]
    }
   ],
   "source": [
    "make_question_vanilla(95)"
   ]
  },
  {
   "cell_type": "code",
   "execution_count": 6,
   "metadata": {},
   "outputs": [
    {
     "name": "stdout",
     "output_type": "stream",
     "text": [
      "Resposta do modelo:\n",
      "    The maximum daily dose for long-term treatment with Cloridrato de verapamil should not exceed 480 mg. However, higher doses may be used for short-term treatment. The dose should be adjusted individually according to\n",
      "Resposta certa:\n",
      "480 mg\n",
      "\n",
      "\n",
      "BERT Score: {'precision': [0.6046256422996521], 'recall': [0.8787660598754883], 'f1': [0.7163643836975098], 'hashcode': 'distilbert-base-uncased_L5_no-idf_version=0.3.12(hug_trans=4.40.2)'}\n",
      "BLEU metric: 0.0\n"
     ]
    }
   ],
   "source": [
    "make_question_rag(213)"
   ]
  },
  {
   "cell_type": "code",
   "execution_count": 7,
   "metadata": {},
   "outputs": [
    {
     "name": "stdout",
     "output_type": "stream",
     "text": [
      "Qual é a dose máxima diária recomendada para o tratamento longo com o Cloridrato de verapamil?\n",
      "Resposta do modelo:\n",
      "    The maximum daily dose for long-term treatment with Verapamil Hydrochloride varies depending on the individual's condition and response. The usual dose ranges from 120 to 180 mg/day, given in divided\n",
      "Resposta certa:\n",
      "480 mg\n",
      "\n",
      "\n",
      "BERT Score: {'precision': [0.5868179202079773], 'recall': [0.7835495471954346], 'f1': [0.6710622310638428], 'hashcode': 'distilbert-base-uncased_L5_no-idf_version=0.3.12(hug_trans=4.40.2)'}\n",
      "BLEU metric: 0.0\n"
     ]
    }
   ],
   "source": [
    "make_question_vanilla(213)"
   ]
  }
 ],
 "metadata": {
  "kernelspec": {
   "display_name": "python310",
   "language": "python",
   "name": "python3"
  },
  "language_info": {
   "codemirror_mode": {
    "name": "ipython",
    "version": 3
   },
   "file_extension": ".py",
   "mimetype": "text/x-python",
   "name": "python",
   "nbconvert_exporter": "python",
   "pygments_lexer": "ipython3",
   "version": "3.10.13"
  }
 },
 "nbformat": 4,
 "nbformat_minor": 2
}
