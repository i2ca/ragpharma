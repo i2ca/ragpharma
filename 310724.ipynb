{
 "cells": [
  {
   "cell_type": "code",
   "execution_count": 1,
   "metadata": {},
   "outputs": [
    {
     "name": "stderr",
     "output_type": "stream",
     "text": [
      "/home/navarro/miniconda3/envs/python310/lib/python3.10/site-packages/tqdm/auto.py:21: TqdmWarning: IProgress not found. Please update jupyter and ipywidgets. See https://ipywidgets.readthedocs.io/en/stable/user_install.html\n",
      "  from .autonotebook import tqdm as notebook_tqdm\n",
      "/home/navarro/.local/lib/python3.10/site-packages/huggingface_hub/file_download.py:1132: FutureWarning: `resume_download` is deprecated and will be removed in version 1.0.0. Downloads always resume when possible. If you want to force a new download, use `force_download=True`.\n",
      "  warnings.warn(\n",
      "Loading checkpoint shards: 100%|██████████| 4/4 [00:02<00:00,  1.71it/s]\n",
      "/home/navarro/.local/lib/python3.10/site-packages/huggingface_hub/file_download.py:1132: FutureWarning: `resume_download` is deprecated and will be removed in version 1.0.0. Downloads always resume when possible. If you want to force a new download, use `force_download=True`.\n",
      "  warnings.warn(\n",
      "/home/navarro/.local/lib/python3.10/site-packages/huggingface_hub/file_download.py:1132: FutureWarning: `resume_download` is deprecated and will be removed in version 1.0.0. Downloads always resume when possible. If you want to force a new download, use `force_download=True`.\n",
      "  warnings.warn(\n"
     ]
    }
   ],
   "source": [
    "from bula_process.models import Mistral, Rag, Llama3\n",
    "import json \n",
    "\n",
    "model = Llama3()\n",
    "rag = Rag()\n",
    "\n",
    "system_prompt = \"\"\"\n",
    "Always answer the question in Brazilian Portuguese, being as simple and concise as possible.\n",
    "Return ONLY the answer.\n",
    "Example:\n",
    "Quais efeitos colaterais podem ocorrer com a administração prolongada do Mud Oral?\n",
    "Answer:\n",
    "Hipertensão arterial e taquicardia.\n",
    "\"\"\"\n",
    "\n",
    "llm_judge_prompt = \"\"\"\n",
    "Given this question: {question}, this correct answer: {right_answer} and this wrong answer: {wrong_answer}, judge if this generated answer is correct or wrong: {generated_answer}\n",
    "Correct means the answer answers the question. Wrong means the opposite.\n",
    "Return ONLY \"Correct\" if the answer is correct, and \"Wrong\" if the answer is wrong. \n",
    "\"\"\"\n",
    "\n",
    "llm_judge_prompt_2 = \"\"\"\n",
    "Considering the question '{question}' and the following answer '{generated_answer}', a similar alternative answer is: \n",
    "\"\"\"\n",
    "\n",
    "llm_judge_prompt_2 = \"\"\"\n",
    "Considering the question '{question}' and the following answer '{generated_answer}', is '{option}' a similar alternative answer?\n",
    "\"\"\"\n",
    "\n",
    "llm_judge_prompt_3 = \"\"\"\n",
    "Considering the question '{question}' and the following answer '{generated_answer}', select the option with the most similar alternative answer: \n",
    "{options}\n",
    "e) None of the options is similar to the text.\n",
    "Option:\n",
    "\"\"\"\n",
    "\n",
    "llm_judge_perplexity_prompt = \"\"\"\n",
    "Given this question: {question}, this correct answer: {right_answer} and this wrong answer: {wrong_answer}, judge if this generated answer is correct or wrong: {generated_answer}\n",
    "Correct means the answer answers the question. Wrong means the opposite.\n",
    "Return ONLY \"Correct\" if the answer is correct, and \"Wrong\" if the answer is wrong. \n",
    "The generated answer is:  \n",
    "\"\"\"\n",
    "\n",
    "# llm_judge_explain_prompt = \"\"\"\n",
    "# Given this question: {question}, this correct answer: {right_answer} and this wrong answer: {wrong_answer}, judge if this generated answer is correct or wrong: {generated_answer}\n",
    "# Explain why is correct and why is wrong. \n",
    "# \"\"\"\n",
    "\n",
    "\n",
    "path = 'results/bula_all.jsonl'\n",
    "list_json = []\n",
    "with open(path, 'r') as file:\n",
    "    for line in file:\n",
    "        list_json.append(json.loads(line))\n",
    "\n",
    "def make_question_rag(id, use_rag):\n",
    "    data = list_json[id]\n",
    "    question_prompt = ''\n",
    "    if use_rag:\n",
    "        context = rag.retrieve(data['query'])\n",
    "        question_prompt = f\"[INST]Answer the question: [/INST] Context: {context} \\n {data['query']} \\nAnswer: \"\n",
    "    else:\n",
    "        question_prompt = f\"[INST]Answer the question: [/INST] \\n {data['query']} \\nAnswer: \"\n",
    "   \n",
    "    answer_model = model.inference(system_prompt + question_prompt)   \n",
    "\n",
    "    gold_choice = ''\n",
    "    wrong_choice = ''\n",
    "    for idx, choice in enumerate(data['choices']):\n",
    "        if idx == int(data['gold']):\n",
    "            gold_choice = choice\n",
    "        else:\n",
    "            wrong_choice = choice\n",
    "        perplexity_question = model.perplexity(llm_judge_prompt_2.format(question=data['query'], right_answer=gold_choice, wrong_answer=wrong_choice, generated_answer=answer_model))\n",
    "        \n",
    "    judge_veredict = model.inference(llm_judge_prompt.format(question=data['query'], right_answer=gold_choice, wrong_answer=wrong_choice, generated_answer=answer_model))\n",
    "\n",
    "    perplexity_right = model.perplexity(llm_judge_perplexity_prompt.format(question=data['query'], right_answer=gold_choice, wrong_answer=wrong_choice, generated_answer=answer_model), \"Correct.\")\n",
    "    perplexity_wrong = model.perplexity(llm_judge_perplexity_prompt.format(question=data['query'], right_answer=gold_choice, wrong_answer=wrong_choice, generated_answer=answer_model), \"Wrong.\")\n",
    "\n",
    "    print(data['query'])\n",
    "    print(f\"Resposta correta: {gold_choice}\")\n",
    "    print(f\"Resposta gerada: {answer_model}\")\n",
    "    print(f\"LLM Judge as: {judge_veredict}\")\n",
    "    print(f\"Perplexity Right: {perplexity_right:.2f}\")\n",
    "    print(f\"Perplexity Wrong: {perplexity_wrong:.2f}\")\n",
    "\n"
   ]
  },
  {
   "cell_type": "code",
   "execution_count": 2,
   "metadata": {},
   "outputs": [
    {
     "name": "stdout",
     "output_type": "stream",
     "text": [
      "Quais são os sintomas de efeitos colaterais que podem ocorrer com o uso de Neo Mistatin creme?\n",
      "Resposta correta: irritação e sensibilidade, incluindo sensação de queimação e coceira\n",
      "Resposta gerada: Irritação, sensibilidade, queimação e prurido.\n",
      "LLM Judge as: Correct\n",
      "Perplexity Right: 13.14\n",
      "Perplexity Wrong: 167.97\n"
     ]
    }
   ],
   "source": [
    "make_question_rag(109, True)"
   ]
  },
  {
   "cell_type": "code",
   "execution_count": 3,
   "metadata": {},
   "outputs": [
    {
     "name": "stdout",
     "output_type": "stream",
     "text": [
      "Quais são os sintomas de efeitos colaterais que podem ocorrer com o uso de Neo Mistatin creme?\n",
      "Resposta correta: irritação e sensibilidade, incluindo sensação de queimação e coceira\n",
      "Resposta gerada: Erupção cutânea e prurido.\n",
      "LLM Judge as: Correct\n",
      "Perplexity Right: 42.60\n",
      "Perplexity Wrong: 9.50\n"
     ]
    }
   ],
   "source": [
    "make_question_rag(109, False)"
   ]
  },
  {
   "cell_type": "code",
   "execution_count": 4,
   "metadata": {},
   "outputs": [
    {
     "name": "stdout",
     "output_type": "stream",
     "text": [
      "Qual é a reação muito comum (>1/10) que pode ocorrer com o uso de Oxaliplatina e é relacionada à função hematológica?\n",
      "Resposta correta: Anemia\n",
      "Resposta gerada: Leucopenia.\n",
      "LLM Judge as: Correct\n",
      "Perplexity Right: 19.41\n",
      "Perplexity Wrong: 14.91\n"
     ]
    }
   ],
   "source": [
    "make_question_rag(95, True)"
   ]
  },
  {
   "cell_type": "code",
   "execution_count": 5,
   "metadata": {},
   "outputs": [
    {
     "name": "stdout",
     "output_type": "stream",
     "text": [
      "Qual é a reação muito comum (>1/10) que pode ocorrer com o uso de Oxaliplatina e é relacionada à função hematológica?\n",
      "Resposta correta: Anemia\n",
      "Resposta gerada: Anemia.\n",
      "LLM Judge as: Correct\n",
      "Perplexity Right: 3.73\n",
      "Perplexity Wrong: 53.51\n"
     ]
    }
   ],
   "source": [
    "make_question_rag(95, False)"
   ]
  },
  {
   "cell_type": "code",
   "execution_count": 6,
   "metadata": {},
   "outputs": [
    {
     "name": "stdout",
     "output_type": "stream",
     "text": [
      "Quais são os efeitos colaterais comuns que podem ocorrer com o uso de Cefuroxima sódica?\n",
      "Resposta correta: Diminuição das células de defesa do organismo (neutrófilos), aumento da quantidade de eosinófilos (células brancas) no sangue; aumento transitório das enzimas do fígado\n",
      "Resposta gerada: Neutropenia, eosinofilia, aumento transitório das enzimas hepáticas, reações no local da injeção.\n",
      "LLM Judge as: Correct\n",
      "Perplexity Right: 8.38\n",
      "Perplexity Wrong: 61.94\n"
     ]
    }
   ],
   "source": [
    "make_question_rag(3, True)"
   ]
  },
  {
   "cell_type": "code",
   "execution_count": 7,
   "metadata": {},
   "outputs": [
    {
     "name": "stdout",
     "output_type": "stream",
     "text": [
      "Quais são os efeitos colaterais comuns que podem ocorrer com o uso de Cefuroxima sódica?\n",
      "Resposta correta: Diminuição das células de defesa do organismo (neutrófilos), aumento da quantidade de eosinófilos (células brancas) no sangue; aumento transitório das enzimas do fígado\n",
      "Resposta gerada: Diarria, náusea e dor de cabeça.\n",
      "LLM Judge as: Correct\n",
      "Perplexity Right: 19.38\n",
      "Perplexity Wrong: 12.86\n"
     ]
    }
   ],
   "source": [
    "make_question_rag(3, False)"
   ]
  },
  {
   "cell_type": "code",
   "execution_count": 8,
   "metadata": {},
   "outputs": [
    {
     "name": "stdout",
     "output_type": "stream",
     "text": [
      "Qual é o efeito colateral comum do PEYONA que ocorre entre 1% e 10% dos pacientes que utilizam este medicamento?\n",
      "Resposta correta: Reações inflamatórias locais no lugar da perfusão\n",
      "Resposta gerada: Flebite e alterações inflamatórias locais.\n",
      "LLM Judge as: Correct\n",
      "Perplexity Right: 17.08\n",
      "Perplexity Wrong: 11.38\n"
     ]
    }
   ],
   "source": [
    "make_question_rag(5, True)"
   ]
  },
  {
   "cell_type": "code",
   "execution_count": 9,
   "metadata": {},
   "outputs": [
    {
     "name": "stdout",
     "output_type": "stream",
     "text": [
      "Qual é o efeito colateral comum do PEYONA que ocorre entre 1% e 10% dos pacientes que utilizam este medicamento?\n",
      "Resposta correta: Reações inflamatórias locais no lugar da perfusão\n",
      "Resposta gerada: Dor de cabeça.\n",
      "LLM Judge as: Wrong\n",
      "Perplexity Right: 58.22\n",
      "Perplexity Wrong: 11.45\n"
     ]
    }
   ],
   "source": [
    "make_question_rag(5, False)"
   ]
  },
  {
   "cell_type": "code",
   "execution_count": 10,
   "metadata": {},
   "outputs": [
    {
     "name": "stdout",
     "output_type": "stream",
     "text": [
      "Quais são os efeitos colaterais mais comuns que podem ocorrer com o uso de Hidroquinona?\n",
      "Resposta correta: Vermelhidão, coceira, descamação, inflamação excessiva, vesículas (bolhas) e sensação leve de queimação\n",
      "Resposta gerada: Eritemia, sensação leve de queimação e hipersensibilidade ocasional.\n",
      "LLM Judge as: Correct\n",
      "Perplexity Right: 14.88\n",
      "Perplexity Wrong: 65.11\n"
     ]
    }
   ],
   "source": [
    "make_question_rag(8, True)"
   ]
  }
 ],
 "metadata": {
  "kernelspec": {
   "display_name": "python310",
   "language": "python",
   "name": "python3"
  },
  "language_info": {
   "codemirror_mode": {
    "name": "ipython",
    "version": 3
   },
   "file_extension": ".py",
   "mimetype": "text/x-python",
   "name": "python",
   "nbconvert_exporter": "python",
   "pygments_lexer": "ipython3",
   "version": "3.10.13"
  }
 },
 "nbformat": 4,
 "nbformat_minor": 2
}
