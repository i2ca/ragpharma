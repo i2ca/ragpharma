{
 "cells": [
  {
   "cell_type": "code",
   "execution_count": 1,
   "metadata": {},
   "outputs": [
    {
     "name": "stderr",
     "output_type": "stream",
     "text": [
      "/home/navarro/miniconda3/envs/python310/lib/python3.10/site-packages/tqdm/auto.py:21: TqdmWarning: IProgress not found. Please update jupyter and ipywidgets. See https://ipywidgets.readthedocs.io/en/stable/user_install.html\n",
      "  from .autonotebook import tqdm as notebook_tqdm\n",
      "/home/navarro/.local/lib/python3.10/site-packages/huggingface_hub/file_download.py:1132: FutureWarning: `resume_download` is deprecated and will be removed in version 1.0.0. Downloads always resume when possible. If you want to force a new download, use `force_download=True`.\n",
      "  warnings.warn(\n",
      "Loading checkpoint shards: 100%|██████████| 4/4 [00:02<00:00,  1.64it/s]\n",
      "/home/navarro/.local/lib/python3.10/site-packages/huggingface_hub/file_download.py:1132: FutureWarning: `resume_download` is deprecated and will be removed in version 1.0.0. Downloads always resume when possible. If you want to force a new download, use `force_download=True`.\n",
      "  warnings.warn(\n",
      "/home/navarro/.local/lib/python3.10/site-packages/huggingface_hub/file_download.py:1132: FutureWarning: `resume_download` is deprecated and will be removed in version 1.0.0. Downloads always resume when possible. If you want to force a new download, use `force_download=True`.\n",
      "  warnings.warn(\n"
     ]
    }
   ],
   "source": [
    "from bula_process.models import Mistral, Rag, Llama3\n",
    "import json \n",
    "\n",
    "model = Llama3()\n",
    "rag = Rag()\n",
    "\n",
    "system_prompt = \"\"\"\n",
    "Always answer the question in Brazilian Portuguese, being as simple and concise as possible.\n",
    "Return ONLY the answer.\n",
    "Example:\n",
    "Quais efeitos colaterais podem ocorrer com a administração prolongada do Mud Oral?\n",
    "Answer:\n",
    "Hipertensão arterial e taquicardia.\n",
    "\"\"\"\n",
    "\n",
    "llm_judge_prompt_1 = \"\"\"\n",
    "Considering the question '{question}' and the following answer '{generated_answer}', a similar alternative answer is: \n",
    "\"\"\"\n",
    "\n",
    "llm_judge_prompt_2 = \"\"\"\n",
    "Considering the question '{question}' and the following answer '{generated_answer}', is '{option}' a similar alternative answer?\n",
    "\"\"\"\n",
    "\n",
    "llm_judge_prompt_3 = \"\"\"\n",
    "Considering the question '{question}' and the following answer '{generated_answer}', select the option with the most similar alternative answer: \n",
    "{options}\n",
    "5) None of the options is similar to the text.\n",
    "Option:\n",
    "\"\"\"\n",
    "\n",
    "path = 'results/bula_all.jsonl'\n",
    "list_json = []\n",
    "with open(path, 'r') as file:\n",
    "    for line in file:\n",
    "        list_json.append(json.loads(line))\n",
    "\n",
    "def make_question_rag(id, use_rag):\n",
    "    data = list_json[id]\n",
    "    question_prompt = ''\n",
    "\n",
    "    \n",
    "    if use_rag:\n",
    "        context = rag.retrieve(data['query'])\n",
    "        question_prompt = f\"[INST]Answer the question: [/INST] Context: {context} \\n {data['query']} \\nAnswer: \"\n",
    "    else:\n",
    "        question_prompt = f\"[INST]Answer the question: [/INST] \\n {data['query']} \\nAnswer: \"\n",
    "   \n",
    "    answer_model = model.inference(system_prompt + question_prompt)   \n",
    "\n",
    "\n",
    "    list_prompt_1 = []\n",
    "    list_prompt_2 = []\n",
    "    list_prompt_3 = []\n",
    "    options = '\\n'.join([f\"{index}) {content}\" for index, content in enumerate(data['choices'])])\n",
    "    for idx, choice in enumerate(data['choices']):\n",
    "        prompt_1 = llm_judge_prompt_1.format(question=data['query'], generated_answer=answer_model)\n",
    "        perplexity_question_1 = model.perplexity(prompt_1, choice)\n",
    "        prompt_2 = llm_judge_prompt_2.format(question=data['query'], generated_answer=answer_model, option=choice)\n",
    "        perplexity_question_2 = model.perplexity(prompt_2, \"Yes\")\n",
    "        prompt_3 = llm_judge_prompt_3.format(question=data['query'], generated_answer=answer_model, options=options)\n",
    "        perplexity_question_3 = model.perplexity(prompt_3, f\"{idx}) {choice}\")\n",
    "       \n",
    "\n",
    "        if idx == int(data['gold']):\n",
    "            gold_choice = choice\n",
    "            list_prompt_1.append(f\"[{choice}]: {perplexity_question_1:.2f}\")\n",
    "            list_prompt_2.append(f\"[{choice}]: {perplexity_question_2:.2f}\")\n",
    "            list_prompt_3.append(f\"[{choice}]: {perplexity_question_3:.2f}\")\n",
    "        else:\n",
    "            list_prompt_1.append(f\"{choice}: {perplexity_question_1:.2f}\")\n",
    "            list_prompt_2.append(f\"{choice}: {perplexity_question_2:.2f}\")\n",
    "            list_prompt_3.append(f\"{choice}: {perplexity_question_3:.2f}\")\n",
    "\n",
    "    print(data['query'])\n",
    "    print(f\"Resposta gerada: {answer_model}\")\n",
    "\n",
    "\n",
    "    for ppl in list_prompt_1:\n",
    "        print(ppl)\n",
    "    print('\\n')\n",
    "    for ppl in list_prompt_2:\n",
    "        print(ppl)\n",
    "    print('\\n')\n",
    "    for ppl in list_prompt_3:\n",
    "        print(ppl)\n",
    "        \n",
    "\n"
   ]
  },
  {
   "cell_type": "code",
   "execution_count": 2,
   "metadata": {},
   "outputs": [
    {
     "name": "stdout",
     "output_type": "stream",
     "text": [
      "Quais são os sintomas de efeitos colaterais que podem ocorrer com o uso de Neo Mistatin creme?\n",
      "Resposta gerada: Irritação e sensibilidade, incluindo sensação de queimação e prurido.\n",
      "dores de dente ou problemas de visão: 37.40\n",
      "perda de peso ou dor de cabeça: 25.27\n",
      "falta de ar ou dor no peito: 22.70\n",
      "[irritação e sensibilidade, incluindo sensação de queimação e coceira]: 2.62\n",
      "\n",
      "\n",
      "dores de dente ou problemas de visão: 8.57\n",
      "perda de peso ou dor de cabeça: 8.24\n",
      "falta de ar ou dor no peito: 6.66\n",
      "[irritação e sensibilidade, incluindo sensação de queimação e coceira]: 2.80\n",
      "\n",
      "\n",
      "dores de dente ou problemas de visão: 1.65\n",
      "perda de peso ou dor de cabeça: 1.60\n",
      "falta de ar ou dor no peito: 1.63\n",
      "[irritação e sensibilidade, incluindo sensação de queimação e coceira]: 1.42\n"
     ]
    }
   ],
   "source": [
    "make_question_rag(109, True)"
   ]
  },
  {
   "cell_type": "code",
   "execution_count": 3,
   "metadata": {},
   "outputs": [
    {
     "name": "stdout",
     "output_type": "stream",
     "text": [
      "Quais são os sintomas de efeitos colaterais que podem ocorrer com o uso de Neo Mistatin creme?\n",
      "Resposta gerada: Prurido, queimor e dermatite alérgica.\n",
      "dores de dente ou problemas de visão: 27.94\n",
      "perda de peso ou dor de cabeça: 26.29\n",
      "falta de ar ou dor no peito: 18.08\n",
      "[irritação e sensibilidade, incluindo sensação de queimação e coceira]: 10.51\n",
      "\n",
      "\n",
      "dores de dente ou problemas de visão: 12.92\n",
      "perda de peso ou dor de cabeça: 10.61\n",
      "falta de ar ou dor no peito: 10.30\n",
      "[irritação e sensibilidade, incluindo sensação de queimação e coceira]: 2.65\n",
      "\n",
      "\n",
      "dores de dente ou problemas de visão: 1.72\n",
      "perda de peso ou dor de cabeça: 1.58\n",
      "falta de ar ou dor no peito: 1.66\n",
      "[irritação e sensibilidade, incluindo sensação de queimação e coceira]: 1.15\n"
     ]
    }
   ],
   "source": [
    "make_question_rag(109, False)"
   ]
  },
  {
   "cell_type": "code",
   "execution_count": 4,
   "metadata": {},
   "outputs": [
    {
     "name": "stdout",
     "output_type": "stream",
     "text": [
      "Qual é a reação muito comum (>1/10) que pode ocorrer com o uso de Oxaliplatina e é relacionada à função hematológica?\n",
      "Resposta gerada: Leucopenia.\n",
      "Fosfatase alcalina anormal: 16.51\n",
      "Dor abdominal: 97.77\n",
      "Constipação: 127.48\n",
      "[Anemia]: 3.19\n",
      "\n",
      "\n",
      "Fosfatase alcalina anormal: 8.47\n",
      "Dor abdominal: 10.76\n",
      "Constipação: 12.23\n",
      "[Anemia]: 7.24\n",
      "\n",
      "\n",
      "Fosfatase alcalina anormal: 1.49\n",
      "Dor abdominal: 3.03\n",
      "Constipação: 2.49\n",
      "[Anemia]: 2.37\n"
     ]
    }
   ],
   "source": [
    "make_question_rag(95, True)"
   ]
  },
  {
   "cell_type": "code",
   "execution_count": 5,
   "metadata": {},
   "outputs": [
    {
     "name": "stdout",
     "output_type": "stream",
     "text": [
      "Qual é a reação muito comum (>1/10) que pode ocorrer com o uso de Oxaliplatina e é relacionada à função hematológica?\n",
      "Resposta gerada: Anemia.\n",
      "Fosfatase alcalina anormal: 24.59\n",
      "Dor abdominal: 182.43\n",
      "Constipação: 111.38\n",
      "[Anemia]: 3.05\n",
      "\n",
      "\n",
      "Fosfatase alcalina anormal: 7.63\n",
      "Dor abdominal: 10.62\n",
      "Constipação: 10.04\n",
      "[Anemia]: 4.82\n",
      "\n",
      "\n",
      "Fosfatase alcalina anormal: 1.50\n",
      "Dor abdominal: 3.03\n",
      "Constipação: 2.36\n",
      "[Anemia]: 2.14\n"
     ]
    }
   ],
   "source": [
    "make_question_rag(95, False)"
   ]
  },
  {
   "cell_type": "code",
   "execution_count": 6,
   "metadata": {},
   "outputs": [
    {
     "name": "stdout",
     "output_type": "stream",
     "text": [
      "Quais são os efeitos colaterais comuns que podem ocorrer com o uso de Cefuroxima sódica?\n",
      "Resposta gerada: Neutropenia, eosinofilia, aumento transitório das enzimas hepáticas, reações no local da injeção.\n",
      "Elevações na creatinina sérica, elevações no nitrogênio (ureia) sanguíneo, redução da velocidade de eliminação de creatinina pela urina: 8.07\n",
      "[Diminuição das células de defesa do organismo (neutrófilos), aumento da quantidade de eosinófilos (células brancas) no sangue; aumento transitório das enzimas do fígado]: 3.42\n",
      "Crescimento de cândida (tipo de fungo); redução do número de células de coagulação (plaquetas); febre medicamentosa: 15.77\n",
      "Número inadequado de glóbulos vermelhos circulantes; processo inflamatório dos rins, reação alérgica severa: 9.29\n",
      "\n",
      "\n",
      "Elevações na creatinina sérica, elevações no nitrogênio (ureia) sanguíneo, redução da velocidade de eliminação de creatinina pela urina: 5.00\n",
      "[Diminuição das células de defesa do organismo (neutrófilos), aumento da quantidade de eosinófilos (células brancas) no sangue; aumento transitório das enzimas do fígado]: 2.32\n",
      "Crescimento de cândida (tipo de fungo); redução do número de células de coagulação (plaquetas); febre medicamentosa: 7.33\n",
      "Número inadequado de glóbulos vermelhos circulantes; processo inflamatório dos rins, reação alérgica severa: 5.72\n",
      "\n",
      "\n",
      "Elevações na creatinina sérica, elevações no nitrogênio (ureia) sanguíneo, redução da velocidade de eliminação de creatinina pela urina: 1.14\n",
      "[Diminuição das células de defesa do organismo (neutrófilos), aumento da quantidade de eosinófilos (células brancas) no sangue; aumento transitório das enzimas do fígado]: 1.06\n",
      "Crescimento de cândida (tipo de fungo); redução do número de células de coagulação (plaquetas); febre medicamentosa: 1.15\n",
      "Número inadequado de glóbulos vermelhos circulantes; processo inflamatório dos rins, reação alérgica severa: 1.16\n"
     ]
    }
   ],
   "source": [
    "make_question_rag(3, True)"
   ]
  },
  {
   "cell_type": "code",
   "execution_count": 7,
   "metadata": {},
   "outputs": [
    {
     "name": "stdout",
     "output_type": "stream",
     "text": [
      "Quais são os efeitos colaterais comuns que podem ocorrer com o uso de Cefuroxima sódica?\n",
      "Resposta gerada: Diarreia, vômitos e dor de cabeça.\n",
      "Elevações na creatinina sérica, elevações no nitrogênio (ureia) sanguíneo, redução da velocidade de eliminação de creatinina pela urina: 8.91\n",
      "[Diminuição das células de defesa do organismo (neutrófilos), aumento da quantidade de eosinófilos (células brancas) no sangue; aumento transitório das enzimas do fígado]: 6.88\n",
      "Crescimento de cândida (tipo de fungo); redução do número de células de coagulação (plaquetas); febre medicamentosa: 18.82\n",
      "Número inadequado de glóbulos vermelhos circulantes; processo inflamatório dos rins, reação alérgica severa: 11.46\n",
      "\n",
      "\n",
      "Elevações na creatinina sérica, elevações no nitrogênio (ureia) sanguíneo, redução da velocidade de eliminação de creatinina pela urina: 4.10\n",
      "[Diminuição das células de defesa do organismo (neutrófilos), aumento da quantidade de eosinófilos (células brancas) no sangue; aumento transitório das enzimas do fígado]: 5.24\n",
      "Crescimento de cândida (tipo de fungo); redução do número de células de coagulação (plaquetas); febre medicamentosa: 5.63\n",
      "Número inadequado de glóbulos vermelhos circulantes; processo inflamatório dos rins, reação alérgica severa: 4.63\n",
      "\n",
      "\n",
      "Elevações na creatinina sérica, elevações no nitrogênio (ureia) sanguíneo, redução da velocidade de eliminação de creatinina pela urina: 1.13\n",
      "[Diminuição das células de defesa do organismo (neutrófilos), aumento da quantidade de eosinófilos (células brancas) no sangue; aumento transitório das enzimas do fígado]: 1.08\n",
      "Crescimento de cândida (tipo de fungo); redução do número de células de coagulação (plaquetas); febre medicamentosa: 1.15\n",
      "Número inadequado de glóbulos vermelhos circulantes; processo inflamatório dos rins, reação alérgica severa: 1.15\n"
     ]
    }
   ],
   "source": [
    "make_question_rag(3, False)"
   ]
  },
  {
   "cell_type": "code",
   "execution_count": 8,
   "metadata": {},
   "outputs": [
    {
     "name": "stdout",
     "output_type": "stream",
     "text": [
      "Qual é o efeito colateral comum do PEYONA que ocorre entre 1% e 10% dos pacientes que utilizam este medicamento?\n",
      "Resposta gerada: Flebite e alterações inflamatórias locais.\n",
      "Infecção do sangue: 30.81\n",
      "Doenças cardíacas: 5.16\n",
      "[Reações inflamatórias locais no lugar da perfusão]: 18.38\n",
      "Surdez: 683.20\n",
      "\n",
      "\n",
      "Infecção do sangue: 5.90\n",
      "Doenças cardíacas: 8.83\n",
      "[Reações inflamatórias locais no lugar da perfusão]: 3.84\n",
      "Surdez: 8.62\n",
      "\n",
      "\n",
      "Infecção do sangue: 1.90\n",
      "Doenças cardíacas: 1.74\n",
      "[Reações inflamatórias locais no lugar da perfusão]: 1.30\n",
      "Surdez: 2.91\n"
     ]
    }
   ],
   "source": [
    "make_question_rag(5, True)"
   ]
  },
  {
   "cell_type": "code",
   "execution_count": 9,
   "metadata": {},
   "outputs": [
    {
     "name": "stdout",
     "output_type": "stream",
     "text": [
      "Qual é o efeito colateral comum do PEYONA que ocorre entre 1% e 10% dos pacientes que utilizam este medicamento?\n",
      "Resposta gerada: Dor de cabeça.\n",
      "Infecção do sangue: 39.31\n",
      "Doenças cardíacas: 5.37\n",
      "[Reações inflamatórias locais no lugar da perfusão]: 27.84\n",
      "Surdez: 396.77\n",
      "\n",
      "\n",
      "Infecção do sangue: 6.56\n",
      "Doenças cardíacas: 7.10\n",
      "[Reações inflamatórias locais no lugar da perfusão]: 6.81\n",
      "Surdez: 6.81\n",
      "\n",
      "\n",
      "Infecção do sangue: 1.94\n",
      "Doenças cardíacas: 1.67\n",
      "[Reações inflamatórias locais no lugar da perfusão]: 1.31\n",
      "Surdez: 2.71\n"
     ]
    }
   ],
   "source": [
    "make_question_rag(5, False)"
   ]
  },
  {
   "cell_type": "code",
   "execution_count": 10,
   "metadata": {},
   "outputs": [
    {
     "name": "stdout",
     "output_type": "stream",
     "text": [
      "Quais são os efeitos colaterais mais comuns que podem ocorrer com o uso de Hidroquinona?\n",
      "Resposta gerada: Eritemia, sensação leve de queimação e hipersensibilidade ocasional.\n",
      "Hiperpigmentação de coloração marrom ou preto-azulada, sensação de dor e febre: 11.94\n",
      "Manchas marrons reversíveis nas unhas, dor de cabeça e fadiga: 8.68\n",
      "[Vermelhidão, coceira, descamação, inflamação excessiva, vesículas (bolhas) e sensação leve de queimação]: 8.06\n",
      "Eczema, urticária e reações alérgicas graves: 4.36\n",
      "\n",
      "\n",
      "Hiperpigmentação de coloração marrom ou preto-azulada, sensação de dor e febre: 5.36\n",
      "Manchas marrons reversíveis nas unhas, dor de cabeça e fadiga: 5.17\n",
      "[Vermelhidão, coceira, descamação, inflamação excessiva, vesículas (bolhas) e sensação leve de queimação]: 6.03\n",
      "Eczema, urticária e reações alérgicas graves: 4.11\n",
      "\n",
      "\n",
      "Hiperpigmentação de coloração marrom ou preto-azulada, sensação de dor e febre: 1.21\n",
      "Manchas marrons reversíveis nas unhas, dor de cabeça e fadiga: 1.21\n",
      "[Vermelhidão, coceira, descamação, inflamação excessiva, vesículas (bolhas) e sensação leve de queimação]: 1.12\n",
      "Eczema, urticária e reações alérgicas graves: 1.22\n"
     ]
    }
   ],
   "source": [
    "make_question_rag(8, True)"
   ]
  }
 ],
 "metadata": {
  "kernelspec": {
   "display_name": "python310",
   "language": "python",
   "name": "python3"
  },
  "language_info": {
   "codemirror_mode": {
    "name": "ipython",
    "version": 3
   },
   "file_extension": ".py",
   "mimetype": "text/x-python",
   "name": "python",
   "nbconvert_exporter": "python",
   "pygments_lexer": "ipython3",
   "version": "3.10.13"
  }
 },
 "nbformat": 4,
 "nbformat_minor": 2
}
